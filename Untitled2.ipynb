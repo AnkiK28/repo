{
 "cells": [
  {
   "cell_type": "markdown",
   "id": "e715b6e7-2f62-4287-8afd-6469422cd671",
   "metadata": {},
   "source": [
    "My Jupyter Notebook on IBM Watson Studio"
   ]
  },
  {
   "cell_type": "markdown",
   "id": "2c8421df-65e7-4f56-8a6d-7e33afbf91ff",
   "metadata": {},
   "source": [
    "**ANKITA KUMARI**"
   ]
  },
  {
   "cell_type": "markdown",
   "id": "6a5d8dd2-f749-4216-b729-84c2231c9b33",
   "metadata": {},
   "source": [
    "ANALYST 1"
   ]
  },
  {
   "cell_type": "markdown",
   "id": "b6d26151-238b-4d15-a0c4-7ae379adfb8f",
   "metadata": {},
   "source": [
    "*I am interested in data science because I love to research and explore data files.*"
   ]
  },
  {
   "cell_type": "markdown",
   "id": "014ff08f-7770-405b-9b57-0473166afd8a",
   "metadata": {},
   "source": [
    "In cell 5, I will run a code to perform mathematical equation."
   ]
  },
  {
   "cell_type": "code",
   "execution_count": 2,
   "id": "23725046-91ba-4d37-8f65-4d4e1be64722",
   "metadata": {},
   "outputs": [
    {
     "data": {
      "text/plain": [
       "2"
      ]
     },
     "execution_count": 2,
     "metadata": {},
     "output_type": "execute_result"
    }
   ],
   "source": [
    "1+1"
   ]
  },
  {
   "cell_type": "markdown",
   "id": "12763db7-96b8-4231-af27-a45c5bc8602d",
   "metadata": {},
   "source": [
    "- 1.Hi My name is Ankita "
   ]
  },
  {
   "cell_type": "markdown",
   "id": "05b7887f-c1bf-4f32-9677-4da40128ee0d",
   "metadata": {},
   "source": [
    "https://www.youtube.com/watch?v=IAxqFo59TBs&ab_channel=PixiesOfficial"
   ]
  },
  {
   "cell_type": "markdown",
   "id": "1b7f4b99-761f-4109-a748-7bc0e7fde00e",
   "metadata": {},
   "source": []
  }
 ],
 "metadata": {
  "kernelspec": {
   "display_name": "Python",
   "language": "python",
   "name": "conda-env-python-py"
  },
  "language_info": {
   "codemirror_mode": {
    "name": "ipython",
    "version": 3
   },
   "file_extension": ".py",
   "mimetype": "text/x-python",
   "name": "python",
   "nbconvert_exporter": "python",
   "pygments_lexer": "ipython3",
   "version": "3.7.12"
  }
 },
 "nbformat": 4,
 "nbformat_minor": 5
}
